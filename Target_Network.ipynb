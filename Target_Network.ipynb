{
  "cells": [
    {
      "cell_type": "markdown",
      "source": [
        "Run this cell load the autoreload extension. This allows us to edit .py source files, and re-import them into the notebook for a seamless editing and debugging experience."
      ],
      "metadata": {
        "id": "2bFLPEs6ljCw"
      }
    },
    {
      "cell_type": "code",
      "execution_count": null,
      "metadata": {
        "id": "_2sOFDaYhuDd"
      },
      "outputs": [],
      "source": [
        "%load_ext autoreload\n",
        "%autoreload 2"
      ]
    },
    {
      "cell_type": "markdown",
      "source": [
        "Run the following cell to mount your Google Drive. Follow the link, sign in to your Google account (the same account you used to store this notebook!) and copy the authorization code into the text box that appears below."
      ],
      "metadata": {
        "id": "Igjl-qhylkty"
      }
    },
    {
      "cell_type": "code",
      "execution_count": null,
      "metadata": {
        "colab": {
          "base_uri": "https://localhost:8080/"
        },
        "id": "-uU5NScrvdiN",
        "outputId": "d54a795e-d045-4388-a72a-150fc555d977"
      },
      "outputs": [
        {
          "output_type": "stream",
          "name": "stdout",
          "text": [
            "Drive already mounted at /content/drive; to attempt to forcibly remount, call drive.mount(\"/content/drive\", force_remount=True).\n"
          ]
        }
      ],
      "source": [
        "from google.colab import drive\n",
        "drive.mount('/content/drive')"
      ]
    },
    {
      "cell_type": "markdown",
      "source": [
        "Locating the path to the project"
      ],
      "metadata": {
        "id": "K_v3kyb-l6UK"
      }
    },
    {
      "cell_type": "code",
      "execution_count": null,
      "metadata": {
        "colab": {
          "base_uri": "https://localhost:8080/"
        },
        "id": "bkO_h8Z65K1G",
        "outputId": "7ddbe155-c7e2-40b2-9528-23dcaa83f1bd"
      },
      "outputs": [
        {
          "output_type": "stream",
          "name": "stdout",
          "text": [
            "['__pycache__', '.ipynb_checkpoints', 'Back', 'preprocessing', 'data', 'plot3d.xlsx', 'Models', 'Results', 'transfer_learning.py', 'cnn_architecture.py', 'Inference.ipynb', 'Source_mixed12k.pth', 'Source_Network.ipynb', 'mmd.py', 'optimize.py', 'MMDclassify_Source_norm_DA_TD_Finetune_last_layer_mixed12k.pth']\n"
          ]
        }
      ],
      "source": [
        "import os\n",
        "\n",
        "GOOGLE_DRIVE_PATH_AFTER_MYDRIVE = 'Predictive_Maintenance_Bearings'\n",
        "GOOGLE_DRIVE_PATH = os.path.join('drive', 'My Drive', GOOGLE_DRIVE_PATH_AFTER_MYDRIVE)\n",
        "\n",
        "print(os.listdir(GOOGLE_DRIVE_PATH))"
      ]
    },
    {
      "cell_type": "code",
      "execution_count": null,
      "metadata": {
        "id": "7g3Nb2fjvfQw",
        "colab": {
          "base_uri": "https://localhost:8080/"
        },
        "outputId": "5aaaf55f-9dad-4b29-94ea-6e8f93289bc5"
      },
      "outputs": [
        {
          "output_type": "stream",
          "name": "stdout",
          "text": [
            "Good to go!\n"
          ]
        }
      ],
      "source": [
        "import sys\n",
        "sys.path.append(GOOGLE_DRIVE_PATH)\n",
        "\n",
        "import torch\n",
        "if torch.cuda.is_available:\n",
        "  print('Good to go!')\n",
        "else:\n",
        "  print('Please set GPU via Edit -> Notebook Settings')"
      ]
    },
    {
      "cell_type": "code",
      "execution_count": null,
      "metadata": {
        "id": "wj1b56hBaKiE"
      },
      "outputs": [],
      "source": [
        "import torchvision\n",
        "import torch.nn as nn\n",
        "import torch.optim as optim\n",
        "from tqdm.auto import tqdm\n",
        "from torchvision import datasets, transforms\n",
        "from transfer_learning import TransferLearningModel\n"
      ]
    },
    {
      "cell_type": "markdown",
      "metadata": {
        "id": "lmw8aAzpZqEN"
      },
      "source": [
        "Load pretrained model."
      ]
    },
    {
      "cell_type": "code",
      "execution_count": null,
      "metadata": {
        "id": "gfA2WaVLVYdk"
      },
      "outputs": [],
      "source": [
        "from cnn_architecture import CNN_Architecture\n",
        "\n",
        "DEVICE = torch.device(\"cuda\")\n",
        "PATH = os.path.join(GOOGLE_DRIVE_PATH, 'Source_mixed12k.pth')\n",
        "# Model for Target Domain\n",
        "model_pretrained = CNN_Architecture(dtype=torch.float32, device=DEVICE)\n",
        "# Model for MMD\n",
        "source_model = CNN_Architecture(dtype=torch.float32, device=DEVICE)\n",
        "\n",
        "model_pretrained = model_pretrained.to(DEVICE)\n",
        "source_model = source_model.to(DEVICE)\n"
      ]
    },
    {
      "cell_type": "markdown",
      "source": [
        "Computing the mean and standard deviation of our dataset"
      ],
      "metadata": {
        "id": "T5HlIrVCmZMd"
      }
    },
    {
      "cell_type": "code",
      "source": [
        "import multiprocessing\n",
        "\n",
        "torch.manual_seed(0)\n",
        "\n",
        "data_transforms = {\n",
        "    'Train': transforms.Compose([\n",
        "                transforms.Resize((224, 224)),\n",
        "                transforms.RandomAdjustSharpness(1),\n",
        "                transforms.ToTensor(),\n",
        "                transforms.Normalize([0., 0., 0.], [1., 1., 1.])\n",
        "            ])\n",
        "        }\n",
        "\n",
        "data_dir = os.path.join(GOOGLE_DRIVE_PATH, 'data/ims_data/data/')\n",
        "# print(os.listdir(data_dir + '/Train'))\n",
        "image_datasets = {x: datasets.ImageFolder(os.path.join(data_dir, x), data_transforms[x]) for x in ['Train']}\n",
        "\n",
        "NUM_WORKERS = multiprocessing.cpu_count()\n",
        "BATCH_SIZE = 4\n",
        "\n",
        "image_dataloader = torch.utils.data.DataLoader(dataset = image_datasets['Train'], batch_size = BATCH_SIZE, \n",
        "                                               num_workers = NUM_WORKERS, pin_memory = True, shuffle = False)"
      ],
      "metadata": {
        "id": "JhO7O0Omz2Zl"
      },
      "execution_count": null,
      "outputs": []
    },
    {
      "cell_type": "code",
      "source": [
        "# Compute Mean and Std's\n",
        "psum    = torch.tensor([0.0, 0.0, 0.0])\n",
        "psum_sq = torch.tensor([0.0, 0.0, 0.0])\n",
        "\n",
        "for i, data in tqdm(enumerate(image_dataloader), total=len(image_dataloader)):\n",
        "    images, labels = data\n",
        "    psum    += images.sum(axis = [0, 2, 3])\n",
        "    psum_sq += (images ** 2).sum(axis = [0, 2, 3])\n",
        "\n",
        "image_size = 224\n",
        "count = len(image_datasets['Train'])*image_size*image_size\n",
        "print(psum)\n",
        "print(psum_sq)\n",
        "print(count)"
      ],
      "metadata": {
        "colab": {
          "base_uri": "https://localhost:8080/",
          "height": 101,
          "referenced_widgets": [
            "65952c46c8e9444aa702291c91f1252b",
            "dcfed93130394dab8455fa10a319ba89",
            "3dc9b8666b6246d98145411dbdc8a271",
            "13c3a05772a240e3a82270728784b53a",
            "1da223375de544b7bd489d32a4776a8d",
            "06a5898897af4bbfbfb6758f670b2769",
            "db36bf8e49004fc5a965d4330f236e72",
            "815ffbfbdc1044738b870f641cc656a4",
            "c8b8abf4ff924d0db9f8b2930eb4b758",
            "14662e362ece4b54a3298fd3eebf32af",
            "0f898af158c94e9c890ff16324ca6c59"
          ]
        },
        "id": "a8uK9mrBz8D9",
        "outputId": "5a86281b-cdd7-4e58-b7f7-1f4084404059"
      },
      "execution_count": null,
      "outputs": [
        {
          "output_type": "display_data",
          "data": {
            "text/plain": [
              "  0%|          | 0/18 [00:00<?, ?it/s]"
            ],
            "application/vnd.jupyter.widget-view+json": {
              "version_major": 2,
              "version_minor": 0,
              "model_id": "65952c46c8e9444aa702291c91f1252b"
            }
          },
          "metadata": {}
        },
        {
          "output_type": "stream",
          "name": "stdout",
          "text": [
            "tensor([ 876920.6250,  847523.4375, 1753411.0000])\n",
            "tensor([214749.2656, 225789.1719, 858243.0000])\n",
            "3612672\n"
          ]
        }
      ]
    },
    {
      "cell_type": "code",
      "source": [
        "total_mean = psum/count\n",
        "total_var = (psum/count) - (total_mean**2)\n",
        "total_std = torch.sqrt(total_var)\n",
        "\n",
        "print(f\"Mean of the dataset is :                {total_mean}\")\n",
        "print(f\"Standard Deviation for the dataset is : {total_std}\")"
      ],
      "metadata": {
        "colab": {
          "base_uri": "https://localhost:8080/"
        },
        "id": "uqGrLPAp0f_O",
        "outputId": "b9efcfc6-6461-448f-c347-9ee097f012f5"
      },
      "execution_count": null,
      "outputs": [
        {
          "output_type": "stream",
          "name": "stdout",
          "text": [
            "Mean of the dataset is :                tensor([0.2427, 0.2346, 0.4854])\n",
            "Standard Deviation for the dataset is : tensor([0.4287, 0.4237, 0.4998])\n"
          ]
        }
      ]
    },
    {
      "cell_type": "markdown",
      "source": [
        "Target Mean and STD <br>\n",
        "Mean - [0.2427, 0.2346, 0.4854] <br>\n",
        "Std  - [0.4287, 0.4237, 0.4998] <br>"
      ],
      "metadata": {
        "id": "-5sOCz8103AP"
      }
    },
    {
      "cell_type": "markdown",
      "source": [
        "Source Domain Mean and Std - If you want to use target domain stats please comment the cell below\n"
      ],
      "metadata": {
        "id": "cYSfUe17tZ0m"
      }
    },
    {
      "cell_type": "code",
      "source": [
        "total_mean = torch.tensor([0.2389, 0.2519, 0.4697])\n",
        "total_std = torch.tensor([0.4264, 0.4341, 0.4991])"
      ],
      "metadata": {
        "id": "cND7FSbCtMhO"
      },
      "execution_count": null,
      "outputs": []
    },
    {
      "cell_type": "markdown",
      "metadata": {
        "id": "eL0q0KEfa9Jq"
      },
      "source": [
        "Train and evaluate\n",
        "\n",
        "On GPU this will take about half the time compared to previous scenario. This is expected as gradients don’t need to be computed for most of the network. However, forward does need to be computed."
      ]
    },
    {
      "cell_type": "code",
      "execution_count": null,
      "metadata": {
        "colab": {
          "base_uri": "https://localhost:8080/"
        },
        "id": "QsZ2RbzEMM01",
        "outputId": "132d0dda-8390-4998-ddef-b11cd0e0a6a3"
      },
      "outputs": [
        {
          "output_type": "stream",
          "name": "stdout",
          "text": [
            "path classes Train          : {'Faulty': 36, 'Healthy': 36}\n",
            "path classes Val            : {'Faulty': 4, 'Healthy': 4}\n",
            "path classes Test           : {'Faulty': 369, 'Healthy': 369}\n",
            "image has shape (B, C, H, W): torch.Size([4, 3, 224, 224])\n",
            "image batch has shape       : torch.Size([4])\n",
            "dataset_sizes               : {'Train': 72, 'Val': 8, 'Test': 738}\n",
            "Class names                 : ['Faulty', 'Healthy']\n"
          ]
        }
      ],
      "source": [
        "torch.manual_seed(0)\n",
        "\n",
        "# Data Augmentations performed - extremely basic just resizing to image dimension to 3x224x224 and sharpening the images to ensure image resolution is not lost\n",
        "data_transforms = {\n",
        "    'Train': transforms.Compose([\n",
        "             transforms.Resize((224, 224)),\n",
        "             transforms.RandomAdjustSharpness(1),\n",
        "             transforms.ToTensor(),\n",
        "             transforms.Normalize(total_mean, total_std)\n",
        "    ]),\n",
        "    'Val': transforms.Compose([\n",
        "           transforms.Resize((224, 224)),\n",
        "           transforms.RandomAdjustSharpness(1),\n",
        "           transforms.ToTensor(),\n",
        "           transforms.Normalize(total_mean, total_std)\n",
        "    ]),\n",
        "    'Test': transforms.Compose([\n",
        "            transforms.Resize((224, 224)),\n",
        "            transforms.RandomAdjustSharpness(1),\n",
        "            transforms.ToTensor(),\n",
        "            transforms.Normalize(total_mean, total_std)\n",
        "    ])\n",
        "}\n",
        "\n",
        "# Load data from disk\n",
        "\n",
        "NUM_WORKERS = multiprocessing.cpu_count()\n",
        "BATCH_SIZE = 4\n",
        "\n",
        "data_dir = os.path.join(GOOGLE_DRIVE_PATH, 'data/ims_data/data/')\n",
        "image_datasets = {x: datasets.ImageFolder(os.path.join(data_dir, x), data_transforms[x])\n",
        "                  for x in ['Train', 'Val', 'Test']}\n",
        "\n",
        "# Training Dataloader\n",
        "train_dataloader = torch.utils.data.DataLoader(dataset = image_datasets['Train'], batch_size = BATCH_SIZE, \n",
        "                                               num_workers = NUM_WORKERS, pin_memory = True, shuffle = True)\n",
        "# Validation Dataloader\n",
        "val_dataloader = torch.utils.data.DataLoader(dataset = image_datasets['Val'], batch_size = BATCH_SIZE, \n",
        "                                             num_workers = NUM_WORKERS, pin_memory = True, shuffle = False)\n",
        "# Test Dataloader\n",
        "test_dataloader = torch.utils.data.DataLoader(dataset = image_datasets['Test'], batch_size = BATCH_SIZE, \n",
        "                                              num_workers = NUM_WORKERS, pin_memory = True, shuffle = False)\n",
        "\n",
        "path_classes_train = {x: len(os.listdir(os.path.join(data_dir, 'Train/'+ x))) for x in ['Faulty', 'Healthy']}\n",
        "path_classes_val = {x: len(os.listdir(os.path.join(data_dir, 'Val/'+ x))) for x in ['Faulty', 'Healthy']}\n",
        "path_classes_test = {x: len(os.listdir(os.path.join(data_dir, 'Test/'+ x))) for x in ['Faulty', 'Healthy']}\n",
        "\n",
        "train_loader_iter = iter(train_dataloader)\n",
        "image, batches = next(train_loader_iter)\n",
        "dataset_sizes = {x: len(image_datasets[x]) for x in ['Train', 'Val', 'Test']}\n",
        "class_names = image_datasets['Train'].classes\n",
        "\n",
        "B, C, H, W = image.shape[0], image.shape[1], image.shape[2], image.shape[3]\n",
        "\n",
        "print(f\"path classes Train          : {path_classes_train}\" )\n",
        "print(f\"path classes Val            : {path_classes_val}\")\n",
        "print(f\"path classes Test           : {path_classes_test}\")\n",
        "print(f\"image has shape (B, C, H, W): {image.shape}\")\n",
        "print(f\"image batch has shape       : {batches.shape}\")\n",
        "print(f\"dataset_sizes               : {dataset_sizes}\")\n",
        "print(f\"Class names                 : {class_names}\")"
      ]
    },
    {
      "cell_type": "markdown",
      "source": [
        "Load pre-trained model, if not using MMD comment out everything with source model"
      ],
      "metadata": {
        "id": "ejUQXFyeu5X4"
      }
    },
    {
      "cell_type": "code",
      "execution_count": null,
      "metadata": {
        "id": "eAb__zSm0PWM"
      },
      "outputs": [],
      "source": [
        "checkpoint = torch.load(PATH)\n",
        "model_pretrained.load_state_dict(checkpoint['model_state_dict'])\n",
        "source_model.load_state_dict(checkpoint['model_state_dict'])\n",
        "\n",
        "# For Source model keep all params frozen\n",
        "for param in source_model.parameters():\n",
        "  param.requires_grad = False\n",
        "\n",
        "# Target Model -  Finetune or Freeze training\n",
        "for param in model_pretrained.parameters():\n",
        "    param.requires_grad = True"
      ]
    },
    {
      "cell_type": "markdown",
      "source": [
        "The cell below is essentially used to select the number of layers to re-initialize for transfer learning. Refer to CNN Architecture to check the network architecture if required"
      ],
      "metadata": {
        "id": "m2L3bdd-ntUl"
      }
    },
    {
      "cell_type": "code",
      "execution_count": null,
      "metadata": {
        "id": "1g4wSu_M0Rjk",
        "colab": {
          "base_uri": "https://localhost:8080/"
        },
        "outputId": "f0ab2422-ae18-4db6-fa95-662a7c3770ca"
      },
      "outputs": [
        {
          "output_type": "stream",
          "name": "stdout",
          "text": [
            "1605632\n"
          ]
        }
      ],
      "source": [
        "num_ftrs = model_pretrained.classify[0].in_features\n",
        "print(num_ftrs)\n",
        "hidden_dim = 120\n",
        "model_pretrained.classify = nn.Sequential(nn.Linear(num_ftrs, hidden_dim),\n",
        "                                          nn.ReLU(inplace=True),\n",
        "                                          nn.Dropout(p=0.2),\n",
        "                                          nn.Linear(hidden_dim, hidden_dim),\n",
        "                                          nn.ReLU(inplace=True),\n",
        "                                          nn.Dropout(p=0.2),\n",
        "                                          nn.Linear(hidden_dim, 2))"
      ]
    },
    {
      "cell_type": "code",
      "execution_count": null,
      "metadata": {
        "colab": {
          "base_uri": "https://localhost:8080/",
          "height": 617,
          "referenced_widgets": [
            "ba1bcc1b484d4ae2ac40f5915ba8458b",
            "0c87cf4a7e1645779d1b5b7295e5e9d6",
            "19b132a4a6934a269f253f3df2386f7f",
            "e7310b68070f41debf50b9e75fcb25ff",
            "c71ff53aac8945ff813525f3f030a011",
            "0a9e0d74c0804770bd768defe89ec2b3",
            "42c87ec63dd548bb828a7b64e9dede3c",
            "d086c95fd3264f5fb538f5e5ef6f0a1e",
            "494878c32a574c62940c31d39bc57c85",
            "caf52989c2cd4301be4925fe89f63c8a",
            "4943d53dba644ae6a85fa3ecc18299f9",
            "0702f19479444e2886e01a881c3854f6",
            "8ca9bdc4336d4ed4bca37ad728ef0195",
            "91d7914275084fe2bd380d1ab2698a34",
            "0bb09d5fc9914020bc653f7c02ca822f",
            "b74cb33f717b452ea0098a232719272c",
            "e044a9c887bb4e1495ec7c151c082fd3",
            "acad8dea1bed4acea6cc2a5730303e3b",
            "75765f62423147e9962daecbcfe1b966",
            "a6bad44ae92a46eab6df21ab52e13abb",
            "85f0314ba1e64c17a699eb88143b43c4",
            "98a8416c14d24e0b8bc8f807caeb3fa9",
            "e69cb762377f45aa84ae65c24fbb677a",
            "d04f7062d96145c5a36766ad7d272dfd",
            "039634debb3a4dca878d86f6b4da3e2b",
            "1e56eeec576d441392b3b5d7b6f03724",
            "289f60425dc64c8a95500338d5d4106c",
            "b4a8e370cfb44e3287351e56395b5869",
            "fb48e88cb02d4360ab210f206e131fa3",
            "9db3502f517f416a82dd73f652f6313f",
            "180f9bc3c4e041ee8893e03f602e0d06",
            "2792253ea0a1439883a3fae19c91855e",
            "521359dd753c4511a9776859832e32ea",
            "90b82e22231c43ef867dfb28e742da2b",
            "87b199dac9c647959437480053decd04",
            "42fdce2df06f4d54894653b0f1604f98",
            "49abfd4a20cf49f3a0a4bc13a8a7b91b",
            "cf9c1cacf1c24285a6941e8be83873bc",
            "f6a640748b1049e6b77f2f33dd4d54a1",
            "9d523036aedf4ca7bff153cd1e3fcff4",
            "d86b3174a41246d29a9a6d860370c488",
            "b6bb4dc8d7c848b080f210ee06b9b437",
            "525bbc8bdace4d5c8b80be80dede3908",
            "505bf30a9757481aa30df7318d429fe4"
          ]
        },
        "id": "dMf-Iqj8Mr0M",
        "outputId": "5f37ab79-bbf4-4d02-a8d6-e3025befa829"
      },
      "outputs": [
        {
          "output_type": "stream",
          "name": "stdout",
          "text": [
            "194,243,618 total trainaible parameters.\n",
            "Epoch 1 of 50\n",
            "Training\n"
          ]
        },
        {
          "output_type": "display_data",
          "data": {
            "text/plain": [
              "  0%|          | 0/18 [00:00<?, ?it/s]"
            ],
            "application/vnd.jupyter.widget-view+json": {
              "version_major": 2,
              "version_minor": 0,
              "model_id": "ba1bcc1b484d4ae2ac40f5915ba8458b"
            }
          },
          "metadata": {}
        },
        {
          "output_type": "stream",
          "name": "stdout",
          "text": [
            "Validation\n"
          ]
        },
        {
          "output_type": "display_data",
          "data": {
            "text/plain": [
              "  0%|          | 0/2 [00:00<?, ?it/s]"
            ],
            "application/vnd.jupyter.widget-view+json": {
              "version_major": 2,
              "version_minor": 0,
              "model_id": "0702f19479444e2886e01a881c3854f6"
            }
          },
          "metadata": {}
        },
        {
          "output_type": "stream",
          "name": "stdout",
          "text": [
            "Training loss: 0.067 and Training Acc: 100.000\n",
            "Val loss: 0.589 and Val Acc: 75.000\n",
            "\n",
            "Best validation loss and acc: 0.5892601162195206\n",
            "\n",
            "Saving best model for epoch: 1\n",
            "\n",
            "file saved to drive/My Drive/Predictive_Maintenance_Bearings/MMDclassify_Source_norm_DA_TD_Finetune_classify_layers_mixed12k.pth\n",
            "--------------------------------------------------\n",
            "Epoch 2 of 50\n",
            "Training\n"
          ]
        },
        {
          "output_type": "display_data",
          "data": {
            "text/plain": [
              "  0%|          | 0/18 [00:00<?, ?it/s]"
            ],
            "application/vnd.jupyter.widget-view+json": {
              "version_major": 2,
              "version_minor": 0,
              "model_id": "e69cb762377f45aa84ae65c24fbb677a"
            }
          },
          "metadata": {}
        },
        {
          "output_type": "stream",
          "name": "stdout",
          "text": [
            "Validation\n"
          ]
        },
        {
          "output_type": "display_data",
          "data": {
            "text/plain": [
              "  0%|          | 0/2 [00:00<?, ?it/s]"
            ],
            "application/vnd.jupyter.widget-view+json": {
              "version_major": 2,
              "version_minor": 0,
              "model_id": "90b82e22231c43ef867dfb28e742da2b"
            }
          },
          "metadata": {}
        },
        {
          "output_type": "stream",
          "name": "stdout",
          "text": [
            "Training loss: 0.209 and Training Acc: 97.222\n",
            "Val loss: 0.082 and Val Acc: 100.000\n",
            "\n",
            "Best validation loss and acc: 0.08187641762197018\n",
            "\n",
            "Saving best model for epoch: 2\n",
            "\n",
            "file saved to drive/My Drive/Predictive_Maintenance_Bearings/MMDclassify_Source_norm_DA_TD_Finetune_classify_layers_mixed12k.pth\n",
            "--------------------------------------------------\n",
            "Finished Training\n"
          ]
        }
      ],
      "source": [
        "import time\n",
        "from optimize import SaveBestModel, train_model_target, train_model, val_model\n",
        "\n",
        "torch.manual_seed(0)\n",
        "\n",
        "DEVICE = torch.device(\"cuda\")\n",
        "\n",
        "source_model = source_model.to(DEVICE)\n",
        "tl_model = model_pretrained.to(DEVICE)\n",
        "\n",
        "\n",
        "# Loss Criterion and Optimizer for the Model\n",
        "criterion = nn.CrossEntropyLoss()\n",
        "optimizer = optim.Adam(tl_model.parameters(), lr=1e-5, betas=(0.9, 0.999), \n",
        "                       weight_decay= 1e-4, amsgrad=False)\n",
        "\n",
        "# initialize SaveBestModel class\n",
        "save_best_model = SaveBestModel(model=tl_model, optimizer=optimizer, criterion=criterion,\n",
        "                                path = GOOGLE_DRIVE_PATH)\n",
        "\n",
        "NUM_EPOCHS = 50\n",
        "\n",
        "# Used for plotting loss and acc\n",
        "train_loss, val_loss = [], []\n",
        "train_acc, val_acc = [], [] \n",
        "\n",
        "# Main Training and Validation Loop\n",
        "for epoch in range(NUM_EPOCHS):\n",
        "    print(f'Epoch {epoch+1} of {NUM_EPOCHS}')\n",
        "    train_epoch_loss, train_epoch_acc = train_model_target(source_model, tl_model, train_dataloader, optimizer, criterion, DEVICE)\n",
        "    val_epoch_loss, val_epoch_acc = val_model(tl_model, val_dataloader, criterion, DEVICE)\n",
        "\n",
        "    train_loss.append(train_epoch_loss)\n",
        "    val_loss.append(val_epoch_loss)\n",
        "    train_acc.append(train_epoch_acc)\n",
        "    val_acc.append(val_epoch_acc)\n",
        "\n",
        "    print(f'Training loss: {train_epoch_loss:.3f} and Training Acc: {train_epoch_acc:.3f}')\n",
        "    print(f'Val loss: {val_epoch_loss:.3f} and Val Acc: {val_epoch_acc:.3f}')\n",
        "\n",
        "    best_model = save_best_model.best_loss(val_epoch_loss, val_epoch_acc, epoch)\n",
        "\n",
        "    print('-'*50)\n",
        "    \n",
        "    if val_epoch_acc == 100.0:\n",
        "      break\n",
        "\n",
        "print('Finished Training')"
      ]
    },
    {
      "cell_type": "markdown",
      "source": [
        "Plotting the Train and Validation Loss"
      ],
      "metadata": {
        "id": "fmY6MRzpoYDh"
      }
    },
    {
      "cell_type": "code",
      "execution_count": null,
      "metadata": {
        "colab": {
          "base_uri": "https://localhost:8080/",
          "height": 738
        },
        "id": "omv0k0QJuBB_",
        "outputId": "298142bb-38f5-4103-c2a5-1e0ee96d730e"
      },
      "outputs": [
        {
          "output_type": "execute_result",
          "data": {
            "text/plain": [
              "<function matplotlib.pyplot.show(close=None, block=None)>"
            ]
          },
          "metadata": {},
          "execution_count": 22
        },
        {
          "output_type": "display_data",
          "data": {
            "text/plain": [
              "<Figure size 1000x800 with 1 Axes>"
            ],
            "image/png": "[encoded data removed]"
          },
          "metadata": {}
        }
      ],
      "source": [
        "import matplotlib.pyplot as plt\n",
        "\n",
        "plt.rcParams[\"figure.figsize\"] = (10.0, 8.0)  # set default size of plots\n",
        "plt.rcParams[\"font.size\"] = 16\n",
        "plt.rcParams[\"image.interpolation\"] = \"nearest\"\n",
        "plt.rcParams[\"image.cmap\"] = \"gray\"\n",
        "\n",
        "plt.plot(train_loss, label='train_loss')\n",
        "plt.plot(val_loss, label='val_loss')\n",
        "plt.title('Train and Validation Loss vs Epoch')\n",
        "plt.xlabel('Epoch')\n",
        "plt.ylabel('Loss')\n",
        "plt.legend()\n",
        "plt.savefig(os.path.join(GOOGLE_DRIVE_PATH, 'Results/DA_classify_Target_Domain_mixed12k_few_shot_finetune_classify_layers_retrained_source_norm.png'))\n",
        "plt.show"
      ]
    },
    {
      "cell_type": "markdown",
      "metadata": {
        "id": "JBFnew08qGqb"
      },
      "source": [
        "**Inference Target**\n",
        "\n",
        "Do not run inference without completing training and validation.\n"
      ]
    },
    {
      "cell_type": "code",
      "execution_count": null,
      "metadata": {
        "colab": {
          "base_uri": "https://localhost:8080/"
        },
        "id": "P0ufT2wTqFrT",
        "outputId": "dcd4de3c-8e5c-4627-88b5-c293d8763e33"
      },
      "outputs": [
        {
          "output_type": "execute_result",
          "data": {
            "text/plain": [
              "<All keys matched successfully>"
            ]
          },
          "metadata": {},
          "execution_count": 23
        }
      ],
      "source": [
        "from cnn_architecture import CNN_Architecture\n",
        "\n",
        "torch.manual_seed(0)\n",
        "\n",
        "DEVICE = torch.device(\"cuda\")\n",
        "# Path to model parameters\n",
        "PATH = os.path.join(GOOGLE_DRIVE_PATH, 'MMDclassify_Source_norm_DA_TD_Finetune_classify_layers_mixed12k.pth')\n",
        "test_model = CNN_Architecture(input_dims=(C, H, W), num_classes=2,\n",
        "                            dtype=torch.float32, device=DEVICE)\n",
        "\n",
        "test_model = test_model.to(DEVICE)\n",
        "# Load the model\n",
        "checkpoint = torch.load(PATH)\n",
        "test_model.load_state_dict(checkpoint['model_state_dict'])"
      ]
    },
    {
      "cell_type": "markdown",
      "source": [
        "The Next two cells are just to check whether inference is working and to get a visual output of the results."
      ],
      "metadata": {
        "id": "9DMGTU_QopOw"
      }
    },
    {
      "cell_type": "code",
      "execution_count": null,
      "metadata": {
        "colab": {
          "base_uri": "https://localhost:8080/",
          "height": 215
        },
        "id": "fwAbWteJvC01",
        "outputId": "e48ff918-2928-43b8-f07e-c9d6fb6303ec"
      },
      "outputs": [
        {
          "output_type": "stream",
          "name": "stdout",
          "text": [
            "GroundTruth:  Faulty Faulty Faulty Faulty\n"
          ]
        },
        {
          "output_type": "display_data",
          "data": {
            "text/plain": [
              "<Figure size 1000x800 with 4 Axes>"
            ],
            "image/png": "[encoded data removed]"
          },
          "metadata": {}
        }
      ],
      "source": [
        "dataiter = iter(test_dataloader)\n",
        "images, labels = next(dataiter)\n",
        "\n",
        "classes = ['Faulty', 'Healthy']\n",
        "print('GroundTruth: ', ' '.join(f'{classes[labels[j]]:5s}' for j in range(4)))\n",
        "\n",
        "mean = total_mean\n",
        "std  = total_std\n",
        "for i in range(images.shape[0]):\n",
        "  im = images[i, :, :, :]\n",
        "  im = im*std.view(3,1,1) + mean.view(3,1,1)\n",
        "  plt.subplot(2, 5, i+1).set_title(f'{classes[labels[i]]}')\n",
        "  plt.imshow(torch.permute(im, (1,2,0)))\n",
        "  plt.axis('off')"
      ]
    },
    {
      "cell_type": "code",
      "execution_count": null,
      "metadata": {
        "colab": {
          "base_uri": "https://localhost:8080/"
        },
        "id": "WbxWayQtvFk1",
        "outputId": "c44b742d-bbd5-4e0e-a0e3-2d19739f5dfe"
      },
      "outputs": [
        {
          "output_type": "stream",
          "name": "stdout",
          "text": [
            "Predicted:  Faulty Faulty Faulty Faulty\n"
          ]
        }
      ],
      "source": [
        "torch.manual_seed(0)\n",
        "\n",
        "test_model.eval()\n",
        "images = images.to(DEVICE)\n",
        "outputs = test_model(images)\n",
        "\n",
        "_, predicted = torch.max(outputs, 1)\n",
        "print('Predicted: ', ' '.join(f'{classes[predicted[j]]:5s}'for j in range(len(images))))"
      ]
    },
    {
      "cell_type": "markdown",
      "source": [
        "The cell below performs inference on the test set based on the model parameters trained upon"
      ],
      "metadata": {
        "id": "LAqX_pUnoyAH"
      }
    },
    {
      "cell_type": "code",
      "execution_count": null,
      "metadata": {
        "id": "xqsE287svI-V",
        "colab": {
          "base_uri": "https://localhost:8080/"
        },
        "outputId": "397abc90-58b0-460c-d61d-4ddde09d32b5"
      },
      "outputs": [
        {
          "output_type": "stream",
          "name": "stdout",
          "text": [
            "Accuracy of the network with test images of: 82.79132791327913 %\n"
          ]
        }
      ],
      "source": [
        "correct = 0\n",
        "total = 0\n",
        "# since we're not training, we don't need to calculate the gradients for our outputs\n",
        "torch.manual_seed(0)\n",
        "\n",
        "with torch.no_grad():\n",
        "  for data in test_dataloader:\n",
        "        images, labels = data\n",
        "        # calculate outputs by running images through the network\n",
        "        images, labels = images.to(DEVICE), labels.to(DEVICE)\n",
        "        outputs = test_model(images)\n",
        "        # the class with the highest energy is what we choose as prediction\n",
        "        _, predicted = torch.max(outputs.data, 1)\n",
        "        total += labels.size(0)\n",
        "        correct += (predicted == labels).sum().item()\n",
        "        \n",
        "print(f'Accuracy of the network with test images of: {100 * correct / total} %')"
      ]
    },
    {
      "cell_type": "markdown",
      "source": [
        "<b> Transfer Learning Test Results </b>\n",
        "<br>\n",
        "Baseline Model Accuracy - 93.023 % <br>\n",
        "TL Freeze Last Layer Retrain, Norm - Target : 57.319% <br>\n",
        "TL Freeze Classify Layers Retrain, Norm - Target : 84.28 % <br>\n",
        "TL Finetune Last Layer Retrain, Norm - Target : 76.2 % <br>\n",
        "TL Finetune Classify Layers Retrain, Norm - Target : 85.23 % <br>\n",
        "TL Finetune Classify Layers Retrain, Norm - Source : 84.42% <br>\n",
        "\n",
        "MMD on Last Classify Layer\n",
        "DA TL Freeze Last Layer Retrained, Norm - Target : 43.9 % <br>\n",
        "DA TL Freeze Classify Layers Retrained, Norm - Target : 78.18 % <br>\n",
        "DA TL Finetune Last Layer Retrain, Norm - Target : 77.018 % <br>\n",
        "DA TL Finetune Classify Layers Retrained, Norm - Target : 85.23 % <br> \n",
        "DA TL Finetune Classify Layers Retrained, Norm - Source : 88.75 % <br>\n",
        "\n",
        "MMD on ALL Classify Layers <br>\n",
        "Linear Layers Finetune Last Layer Retrain, Norm - Source : 83.604 % <br>\n",
        "Linear Layers Finetune Classify Layers Retrain, Norm - Source : 82.79 % <br>"
      ],
      "metadata": {
        "id": "XDp6k7We-JzQ"
      }
    }
  ],
  "metadata": {
    "accelerator": "GPU",
    "colab": {
      "provenance": [],
      "machine_shape": "hm",
      "gpuType": "A100"
    },
    "gpuClass": "standard",
    "kernelspec": {
      "display_name": "Python 3",
      "name": "python3"
    },
    "language_info": {
      "name": "python"
    },
    "widgets": {
      "application/vnd.jupyter.widget-state+json": {
        "65952c46c8e9444aa702291c91f1252b": {
          "model_module": "@jupyter-widgets/controls",
          "model_name": "HBoxModel",
          "model_module_version": "1.5.0",
          "state": {
            "_dom_classes": [],
            "_model_module": "@jupyter-widgets/controls",
            "_model_module_version": "1.5.0",
            "_model_name": "HBoxModel",
            "_view_count": null,
            "_view_module": "@jupyter-widgets/controls",
            "_view_module_version": "1.5.0",
            "_view_name": "HBoxView",
            "box_style": "",
            "children": [
              "IPY_MODEL_dcfed93130394dab8455fa10a319ba89",
              "IPY_MODEL_3dc9b8666b6246d98145411dbdc8a271",
              "IPY_MODEL_13c3a05772a240e3a82270728784b53a"
            ],
            "layout": "IPY_MODEL_1da223375de544b7bd489d32a4776a8d"
          }
        },
        "dcfed93130394dab8455fa10a319ba89": {
          "model_module": "@jupyter-widgets/controls",
          "model_name": "HTMLModel",
          "model_module_version": "1.5.0",
          "state": {
            "_dom_classes": [],
            "_model_module": "@jupyter-widgets/controls",
            "_model_module_version": "1.5.0",
            "_model_name": "HTMLModel",
            "_view_count": null,
            "_view_module": "@jupyter-widgets/controls",
            "_view_module_version": "1.5.0",
            "_view_name": "HTMLView",
            "description": "",
            "description_tooltip": null,
            "layout": "IPY_MODEL_06a5898897af4bbfbfb6758f670b2769",
            "placeholder": "​",
            "style": "IPY_MODEL_db36bf8e49004fc5a965d4330f236e72",
            "value": "100%"
          }
        },
        "3dc9b8666b6246d98145411dbdc8a271": {
          "model_module": "@jupyter-widgets/controls",
          "model_name": "FloatProgressModel",
          "model_module_version": "1.5.0",
          "state": {
            "_dom_classes": [],
            "_model_module": "@jupyter-widgets/controls",
            "_model_module_version": "1.5.0",
            "_model_name": "FloatProgressModel",
            "_view_count": null,
            "_view_module": "@jupyter-widgets/controls",
            "_view_module_version": "1.5.0",
            "_view_name": "ProgressView",
            "bar_style": "success",
            "description": "",
            "description_tooltip": null,
            "layout": "IPY_MODEL_815ffbfbdc1044738b870f641cc656a4",
            "max": 18,
            "min": 0,
            "orientation": "horizontal",
            "style": "IPY_MODEL_c8b8abf4ff924d0db9f8b2930eb4b758",
            "value": 18
          }
        },
        "13c3a05772a240e3a82270728784b53a": {
          "model_module": "@jupyter-widgets/controls",
          "model_name": "HTMLModel",
          "model_module_version": "1.5.0",
          "state": {
            "_dom_classes": [],
            "_model_module": "@jupyter-widgets/controls",
            "_model_module_version": "1.5.0",
            "_model_name": "HTMLModel",
            "_view_count": null,
            "_view_module": "@jupyter-widgets/controls",
            "_view_module_version": "1.5.0",
            "_view_name": "HTMLView",
            "description": "",
            "description_tooltip": null,
            "layout": "IPY_MODEL_14662e362ece4b54a3298fd3eebf32af",
            "placeholder": "​",
            "style": "IPY_MODEL_0f898af158c94e9c890ff16324ca6c59",
            "value": " 18/18 [00:00&lt;00:00,  6.07it/s]"
          }
        },
        "1da223375de544b7bd489d32a4776a8d": {
          "model_module": "@jupyter-widgets/base",
          "model_name": "LayoutModel",
          "model_module_version": "1.2.0",
          "state": {
            "_model_module": "@jupyter-widgets/base",
            "_model_module_version": "1.2.0",
            "_model_name": "LayoutModel",
            "_view_count": null,
            "_view_module": "@jupyter-widgets/base",
            "_view_module_version": "1.2.0",
            "_view_name": "LayoutView",
            "align_content": null,
            "align_items": null,
            "align_self": null,
            "border": null,
            "bottom": null,
            "display": null,
            "flex": null,
            "flex_flow": null,
            "grid_area": null,
            "grid_auto_columns": null,
            "grid_auto_flow": null,
            "grid_auto_rows": null,
            "grid_column": null,
            "grid_gap": null,
            "grid_row": null,
            "grid_template_areas": null,
            "grid_template_columns": null,
            "grid_template_rows": null,
            "height": null,
            "justify_content": null,
            "justify_items": null,
            "left": null,
            "margin": null,
            "max_height": null,
            "max_width": null,
            "min_height": null,
            "min_width": null,
            "object_fit": null,
            "object_position": null,
            "order": null,
            "overflow": null,
            "overflow_x": null,
            "overflow_y": null,
            "padding": null,
            "right": null,
            "top": null,
            "visibility": null,
            "width": null
          }
        },
        "06a5898897af4bbfbfb6758f670b2769": {
          "model_module": "@jupyter-widgets/base",
          "model_name": "LayoutModel",
          "model_module_version": "1.2.0",
          "state": {
            "_model_module": "@jupyter-widgets/base",
            "_model_module_version": "1.2.0",
            "_model_name": "LayoutModel",
            "_view_count": null,
            "_view_module": "@jupyter-widgets/base",
            "_view_module_version": "1.2.0",
            "_view_name": "LayoutView",
            "align_content": null,
            "align_items": null,
            "align_self": null,
            "border": null,
            "bottom": null,
            "display": null,
            "flex": null,
            "flex_flow": null,
            "grid_area": null,
            "grid_auto_columns": null,
            "grid_auto_flow": null,
            "grid_auto_rows": null,
            "grid_column": null,
            "grid_gap": null,
            "grid_row": null,
            "grid_template_areas": null,
            "grid_template_columns": null,
            "grid_template_rows": null,
            "height": null,
            "justify_content": null,
            "justify_items": null,
            "left": null,
            "margin": null,
            "max_height": null,
            "max_width": null,
            "min_height": null,
            "min_width": null,
            "object_fit": null,
            "object_position": null,
            "order": null,
            "overflow": null,
            "overflow_x": null,
            "overflow_y": null,
            "padding": null,
            "right": null,
            "top": null,
            "visibility": null,
            "width": null
          }
        },
        "db36bf8e49004fc5a965d4330f236e72": {
          "model_module": "@jupyter-widgets/controls",
          "model_name": "DescriptionStyleModel",
          "model_module_version": "1.5.0",
          "state": {
            "_model_module": "@jupyter-widgets/controls",
            "_model_module_version": "1.5.0",
            "_model_name": "DescriptionStyleModel",
            "_view_count": null,
            "_view_module": "@jupyter-widgets/base",
            "_view_module_version": "1.2.0",
            "_view_name": "StyleView",
            "description_width": ""
          }
        },
        "815ffbfbdc1044738b870f641cc656a4": {
          "model_module": "@jupyter-widgets/base",
          "model_name": "LayoutModel",
          "model_module_version": "1.2.0",
          "state": {
            "_model_module": "@jupyter-widgets/base",
            "_model_module_version": "1.2.0",
            "_model_name": "LayoutModel",
            "_view_count": null,
            "_view_module": "@jupyter-widgets/base",
            "_view_module_version": "1.2.0",
            "_view_name": "LayoutView",
            "align_content": null,
            "align_items": null,
            "align_self": null,
            "border": null,
            "bottom": null,
            "display": null,
            "flex": null,
            "flex_flow": null,
            "grid_area": null,
            "grid_auto_columns": null,
            "grid_auto_flow": null,
            "grid_auto_rows": null,
            "grid_column": null,
            "grid_gap": null,
            "grid_row": null,
            "grid_template_areas": null,
            "grid_template_columns": null,
            "grid_template_rows": null,
            "height": null,
            "justify_content": null,
            "justify_items": null,
            "left": null,
            "margin": null,
            "max_height": null,
            "max_width": null,
            "min_height": null,
            "min_width": null,
            "object_fit": null,
            "object_position": null,
            "order": null,
            "overflow": null,
            "overflow_x": null,
            "overflow_y": null,
            "padding": null,
            "right": null,
            "top": null,
            "visibility": null,
            "width": null
          }
        },
        "c8b8abf4ff924d0db9f8b2930eb4b758": {
          "model_module": "@jupyter-widgets/controls",
          "model_name": "ProgressStyleModel",
          "model_module_version": "1.5.0",
          "state": {
            "_model_module": "@jupyter-widgets/controls",
            "_model_module_version": "1.5.0",
            "_model_name": "ProgressStyleModel",
            "_view_count": null,
            "_view_module": "@jupyter-widgets/base",
            "_view_module_version": "1.2.0",
            "_view_name": "StyleView",
            "bar_color": null,
            "description_width": ""
          }
        },
        "14662e362ece4b54a3298fd3eebf32af": {
          "model_module": "@jupyter-widgets/base",
          "model_name": "LayoutModel",
          "model_module_version": "1.2.0",
          "state": {
            "_model_module": "@jupyter-widgets/base",
            "_model_module_version": "1.2.0",
            "_model_name": "LayoutModel",
            "_view_count": null,
            "_view_module": "@jupyter-widgets/base",
            "_view_module_version": "1.2.0",
            "_view_name": "LayoutView",
            "align_content": null,
            "align_items": null,
            "align_self": null,
            "border": null,
            "bottom": null,
            "display": null,
            "flex": null,
            "flex_flow": null,
            "grid_area": null,
            "grid_auto_columns": null,
            "grid_auto_flow": null,
            "grid_auto_rows": null,
            "grid_column": null,
            "grid_gap": null,
            "grid_row": null,
            "grid_template_areas": null,
            "grid_template_columns": null,
            "grid_template_rows": null,
            "height": null,
            "justify_content": null,
            "justify_items": null,
            "left": null,
            "margin": null,
            "max_height": null,
            "max_width": null,
            "min_height": null,
            "min_width": null,
            "object_fit": null,
            "object_position": null,
            "order": null,
            "overflow": null,
            "overflow_x": null,
            "overflow_y": null,
            "padding": null,
            "right": null,
            "top": null,
            "visibility": null,
            "width": null
          }
        },
        "0f898af158c94e9c890ff16324ca6c59": {
          "model_module": "@jupyter-widgets/controls",
          "model_name": "DescriptionStyleModel",
          "model_module_version": "1.5.0",
          "state": {
            "_model_module": "@jupyter-widgets/controls",
            "_model_module_version": "1.5.0",
            "_model_name": "DescriptionStyleModel",
            "_view_count": null,
            "_view_module": "@jupyter-widgets/base",
            "_view_module_version": "1.2.0",
            "_view_name": "StyleView",
            "description_width": ""
          }
        },
        "ba1bcc1b484d4ae2ac40f5915ba8458b": {
          "model_module": "@jupyter-widgets/controls",
          "model_name": "HBoxModel",
          "model_module_version": "1.5.0",
          "state": {
            "_dom_classes": [],
            "_model_module": "@jupyter-widgets/controls",
            "_model_module_version": "1.5.0",
            "_model_name": "HBoxModel",
            "_view_count": null,
            "_view_module": "@jupyter-widgets/controls",
            "_view_module_version": "1.5.0",
            "_view_name": "HBoxView",
            "box_style": "",
            "children": [
              "IPY_MODEL_0c87cf4a7e1645779d1b5b7295e5e9d6",
              "IPY_MODEL_19b132a4a6934a269f253f3df2386f7f",
              "IPY_MODEL_e7310b68070f41debf50b9e75fcb25ff"
            ],
            "layout": "IPY_MODEL_c71ff53aac8945ff813525f3f030a011"
          }
        },
        "0c87cf4a7e1645779d1b5b7295e5e9d6": {
          "model_module": "@jupyter-widgets/controls",
          "model_name": "HTMLModel",
          "model_module_version": "1.5.0",
          "state": {
            "_dom_classes": [],
            "_model_module": "@jupyter-widgets/controls",
            "_model_module_version": "1.5.0",
            "_model_name": "HTMLModel",
            "_view_count": null,
            "_view_module": "@jupyter-widgets/controls",
            "_view_module_version": "1.5.0",
            "_view_name": "HTMLView",
            "description": "",
            "description_tooltip": null,
            "layout": "IPY_MODEL_0a9e0d74c0804770bd768defe89ec2b3",
            "placeholder": "​",
            "style": "IPY_MODEL_42c87ec63dd548bb828a7b64e9dede3c",
            "value": "100%"
          }
        },
        "19b132a4a6934a269f253f3df2386f7f": {
          "model_module": "@jupyter-widgets/controls",
          "model_name": "FloatProgressModel",
          "model_module_version": "1.5.0",
          "state": {
            "_dom_classes": [],
            "_model_module": "@jupyter-widgets/controls",
            "_model_module_version": "1.5.0",
            "_model_name": "FloatProgressModel",
            "_view_count": null,
            "_view_module": "@jupyter-widgets/controls",
            "_view_module_version": "1.5.0",
            "_view_name": "ProgressView",
            "bar_style": "success",
            "description": "",
            "description_tooltip": null,
            "layout": "IPY_MODEL_d086c95fd3264f5fb538f5e5ef6f0a1e",
            "max": 18,
            "min": 0,
            "orientation": "horizontal",
            "style": "IPY_MODEL_494878c32a574c62940c31d39bc57c85",
            "value": 18
          }
        },
        "e7310b68070f41debf50b9e75fcb25ff": {
          "model_module": "@jupyter-widgets/controls",
          "model_name": "HTMLModel",
          "model_module_version": "1.5.0",
          "state": {
            "_dom_classes": [],
            "_model_module": "@jupyter-widgets/controls",
            "_model_module_version": "1.5.0",
            "_model_name": "HTMLModel",
            "_view_count": null,
            "_view_module": "@jupyter-widgets/controls",
            "_view_module_version": "1.5.0",
            "_view_name": "HTMLView",
            "description": "",
            "description_tooltip": null,
            "layout": "IPY_MODEL_caf52989c2cd4301be4925fe89f63c8a",
            "placeholder": "​",
            "style": "IPY_MODEL_4943d53dba644ae6a85fa3ecc18299f9",
            "value": " 18/18 [00:01&lt;00:00, 19.08it/s]"
          }
        },
        "c71ff53aac8945ff813525f3f030a011": {
          "model_module": "@jupyter-widgets/base",
          "model_name": "LayoutModel",
          "model_module_version": "1.2.0",
          "state": {
            "_model_module": "@jupyter-widgets/base",
            "_model_module_version": "1.2.0",
            "_model_name": "LayoutModel",
            "_view_count": null,
            "_view_module": "@jupyter-widgets/base",
            "_view_module_version": "1.2.0",
            "_view_name": "LayoutView",
            "align_content": null,
            "align_items": null,
            "align_self": null,
            "border": null,
            "bottom": null,
            "display": null,
            "flex": null,
            "flex_flow": null,
            "grid_area": null,
            "grid_auto_columns": null,
            "grid_auto_flow": null,
            "grid_auto_rows": null,
            "grid_column": null,
            "grid_gap": null,
            "grid_row": null,
            "grid_template_areas": null,
            "grid_template_columns": null,
            "grid_template_rows": null,
            "height": null,
            "justify_content": null,
            "justify_items": null,
            "left": null,
            "margin": null,
            "max_height": null,
            "max_width": null,
            "min_height": null,
            "min_width": null,
            "object_fit": null,
            "object_position": null,
            "order": null,
            "overflow": null,
            "overflow_x": null,
            "overflow_y": null,
            "padding": null,
            "right": null,
            "top": null,
            "visibility": null,
            "width": null
          }
        },
        "0a9e0d74c0804770bd768defe89ec2b3": {
          "model_module": "@jupyter-widgets/base",
          "model_name": "LayoutModel",
          "model_module_version": "1.2.0",
          "state": {
            "_model_module": "@jupyter-widgets/base",
            "_model_module_version": "1.2.0",
            "_model_name": "LayoutModel",
            "_view_count": null,
            "_view_module": "@jupyter-widgets/base",
            "_view_module_version": "1.2.0",
            "_view_name": "LayoutView",
            "align_content": null,
            "align_items": null,
            "align_self": null,
            "border": null,
            "bottom": null,
            "display": null,
            "flex": null,
            "flex_flow": null,
            "grid_area": null,
            "grid_auto_columns": null,
            "grid_auto_flow": null,
            "grid_auto_rows": null,
            "grid_column": null,
            "grid_gap": null,
            "grid_row": null,
            "grid_template_areas": null,
            "grid_template_columns": null,
            "grid_template_rows": null,
            "height": null,
            "justify_content": null,
            "justify_items": null,
            "left": null,
            "margin": null,
            "max_height": null,
            "max_width": null,
            "min_height": null,
            "min_width": null,
            "object_fit": null,
            "object_position": null,
            "order": null,
            "overflow": null,
            "overflow_x": null,
            "overflow_y": null,
            "padding": null,
            "right": null,
            "top": null,
            "visibility": null,
            "width": null
          }
        },
        "42c87ec63dd548bb828a7b64e9dede3c": {
          "model_module": "@jupyter-widgets/controls",
          "model_name": "DescriptionStyleModel",
          "model_module_version": "1.5.0",
          "state": {
            "_model_module": "@jupyter-widgets/controls",
            "_model_module_version": "1.5.0",
            "_model_name": "DescriptionStyleModel",
            "_view_count": null,
            "_view_module": "@jupyter-widgets/base",
            "_view_module_version": "1.2.0",
            "_view_name": "StyleView",
            "description_width": ""
          }
        },
        "d086c95fd3264f5fb538f5e5ef6f0a1e": {
          "model_module": "@jupyter-widgets/base",
          "model_name": "LayoutModel",
          "model_module_version": "1.2.0",
          "state": {
            "_model_module": "@jupyter-widgets/base",
            "_model_module_version": "1.2.0",
            "_model_name": "LayoutModel",
            "_view_count": null,
            "_view_module": "@jupyter-widgets/base",
            "_view_module_version": "1.2.0",
            "_view_name": "LayoutView",
            "align_content": null,
            "align_items": null,
            "align_self": null,
            "border": null,
            "bottom": null,
            "display": null,
            "flex": null,
            "flex_flow": null,
            "grid_area": null,
            "grid_auto_columns": null,
            "grid_auto_flow": null,
            "grid_auto_rows": null,
            "grid_column": null,
            "grid_gap": null,
            "grid_row": null,
            "grid_template_areas": null,
            "grid_template_columns": null,
            "grid_template_rows": null,
            "height": null,
            "justify_content": null,
            "justify_items": null,
            "left": null,
            "margin": null,
            "max_height": null,
            "max_width": null,
            "min_height": null,
            "min_width": null,
            "object_fit": null,
            "object_position": null,
            "order": null,
            "overflow": null,
            "overflow_x": null,
            "overflow_y": null,
            "padding": null,
            "right": null,
            "top": null,
            "visibility": null,
            "width": null
          }
        },
        "494878c32a574c62940c31d39bc57c85": {
          "model_module": "@jupyter-widgets/controls",
          "model_name": "ProgressStyleModel",
          "model_module_version": "1.5.0",
          "state": {
            "_model_module": "@jupyter-widgets/controls",
            "_model_module_version": "1.5.0",
            "_model_name": "ProgressStyleModel",
            "_view_count": null,
            "_view_module": "@jupyter-widgets/base",
            "_view_module_version": "1.2.0",
            "_view_name": "StyleView",
            "bar_color": null,
            "description_width": ""
          }
        },
        "caf52989c2cd4301be4925fe89f63c8a": {
          "model_module": "@jupyter-widgets/base",
          "model_name": "LayoutModel",
          "model_module_version": "1.2.0",
          "state": {
            "_model_module": "@jupyter-widgets/base",
            "_model_module_version": "1.2.0",
            "_model_name": "LayoutModel",
            "_view_count": null,
            "_view_module": "@jupyter-widgets/base",
            "_view_module_version": "1.2.0",
            "_view_name": "LayoutView",
            "align_content": null,
            "align_items": null,
            "align_self": null,
            "border": null,
            "bottom": null,
            "display": null,
            "flex": null,
            "flex_flow": null,
            "grid_area": null,
            "grid_auto_columns": null,
            "grid_auto_flow": null,
            "grid_auto_rows": null,
            "grid_column": null,
            "grid_gap": null,
            "grid_row": null,
            "grid_template_areas": null,
            "grid_template_columns": null,
            "grid_template_rows": null,
            "height": null,
            "justify_content": null,
            "justify_items": null,
            "left": null,
            "margin": null,
            "max_height": null,
            "max_width": null,
            "min_height": null,
            "min_width": null,
            "object_fit": null,
            "object_position": null,
            "order": null,
            "overflow": null,
            "overflow_x": null,
            "overflow_y": null,
            "padding": null,
            "right": null,
            "top": null,
            "visibility": null,
            "width": null
          }
        },
        "4943d53dba644ae6a85fa3ecc18299f9": {
          "model_module": "@jupyter-widgets/controls",
          "model_name": "DescriptionStyleModel",
          "model_module_version": "1.5.0",
          "state": {
            "_model_module": "@jupyter-widgets/controls",
            "_model_module_version": "1.5.0",
            "_model_name": "DescriptionStyleModel",
            "_view_count": null,
            "_view_module": "@jupyter-widgets/base",
            "_view_module_version": "1.2.0",
            "_view_name": "StyleView",
            "description_width": ""
          }
        },
        "0702f19479444e2886e01a881c3854f6": {
          "model_module": "@jupyter-widgets/controls",
          "model_name": "HBoxModel",
          "model_module_version": "1.5.0",
          "state": {
            "_dom_classes": [],
            "_model_module": "@jupyter-widgets/controls",
            "_model_module_version": "1.5.0",
            "_model_name": "HBoxModel",
            "_view_count": null,
            "_view_module": "@jupyter-widgets/controls",
            "_view_module_version": "1.5.0",
            "_view_name": "HBoxView",
            "box_style": "",
            "children": [
              "IPY_MODEL_8ca9bdc4336d4ed4bca37ad728ef0195",
              "IPY_MODEL_91d7914275084fe2bd380d1ab2698a34",
              "IPY_MODEL_0bb09d5fc9914020bc653f7c02ca822f"
            ],
            "layout": "IPY_MODEL_b74cb33f717b452ea0098a232719272c"
          }
        },
        "8ca9bdc4336d4ed4bca37ad728ef0195": {
          "model_module": "@jupyter-widgets/controls",
          "model_name": "HTMLModel",
          "model_module_version": "1.5.0",
          "state": {
            "_dom_classes": [],
            "_model_module": "@jupyter-widgets/controls",
            "_model_module_version": "1.5.0",
            "_model_name": "HTMLModel",
            "_view_count": null,
            "_view_module": "@jupyter-widgets/controls",
            "_view_module_version": "1.5.0",
            "_view_name": "HTMLView",
            "description": "",
            "description_tooltip": null,
            "layout": "IPY_MODEL_e044a9c887bb4e1495ec7c151c082fd3",
            "placeholder": "​",
            "style": "IPY_MODEL_acad8dea1bed4acea6cc2a5730303e3b",
            "value": "100%"
          }
        },
        "91d7914275084fe2bd380d1ab2698a34": {
          "model_module": "@jupyter-widgets/controls",
          "model_name": "FloatProgressModel",
          "model_module_version": "1.5.0",
          "state": {
            "_dom_classes": [],
            "_model_module": "@jupyter-widgets/controls",
            "_model_module_version": "1.5.0",
            "_model_name": "FloatProgressModel",
            "_view_count": null,
            "_view_module": "@jupyter-widgets/controls",
            "_view_module_version": "1.5.0",
            "_view_name": "ProgressView",
            "bar_style": "success",
            "description": "",
            "description_tooltip": null,
            "layout": "IPY_MODEL_75765f62423147e9962daecbcfe1b966",
            "max": 2,
            "min": 0,
            "orientation": "horizontal",
            "style": "IPY_MODEL_a6bad44ae92a46eab6df21ab52e13abb",
            "value": 2
          }
        },
        "0bb09d5fc9914020bc653f7c02ca822f": {
          "model_module": "@jupyter-widgets/controls",
          "model_name": "HTMLModel",
          "model_module_version": "1.5.0",
          "state": {
            "_dom_classes": [],
            "_model_module": "@jupyter-widgets/controls",
            "_model_module_version": "1.5.0",
            "_model_name": "HTMLModel",
            "_view_count": null,
            "_view_module": "@jupyter-widgets/controls",
            "_view_module_version": "1.5.0",
            "_view_name": "HTMLView",
            "description": "",
            "description_tooltip": null,
            "layout": "IPY_MODEL_85f0314ba1e64c17a699eb88143b43c4",
            "placeholder": "​",
            "style": "IPY_MODEL_98a8416c14d24e0b8bc8f807caeb3fa9",
            "value": " 2/2 [00:00&lt;00:00, 17.83it/s]"
          }
        },
        "b74cb33f717b452ea0098a232719272c": {
          "model_module": "@jupyter-widgets/base",
          "model_name": "LayoutModel",
          "model_module_version": "1.2.0",
          "state": {
            "_model_module": "@jupyter-widgets/base",
            "_model_module_version": "1.2.0",
            "_model_name": "LayoutModel",
            "_view_count": null,
            "_view_module": "@jupyter-widgets/base",
            "_view_module_version": "1.2.0",
            "_view_name": "LayoutView",
            "align_content": null,
            "align_items": null,
            "align_self": null,
            "border": null,
            "bottom": null,
            "display": null,
            "flex": null,
            "flex_flow": null,
            "grid_area": null,
            "grid_auto_columns": null,
            "grid_auto_flow": null,
            "grid_auto_rows": null,
            "grid_column": null,
            "grid_gap": null,
            "grid_row": null,
            "grid_template_areas": null,
            "grid_template_columns": null,
            "grid_template_rows": null,
            "height": null,
            "justify_content": null,
            "justify_items": null,
            "left": null,
            "margin": null,
            "max_height": null,
            "max_width": null,
            "min_height": null,
            "min_width": null,
            "object_fit": null,
            "object_position": null,
            "order": null,
            "overflow": null,
            "overflow_x": null,
            "overflow_y": null,
            "padding": null,
            "right": null,
            "top": null,
            "visibility": null,
            "width": null
          }
        },
        "e044a9c887bb4e1495ec7c151c082fd3": {
          "model_module": "@jupyter-widgets/base",
          "model_name": "LayoutModel",
          "model_module_version": "1.2.0",
          "state": {
            "_model_module": "@jupyter-widgets/base",
            "_model_module_version": "1.2.0",
            "_model_name": "LayoutModel",
            "_view_count": null,
            "_view_module": "@jupyter-widgets/base",
            "_view_module_version": "1.2.0",
            "_view_name": "LayoutView",
            "align_content": null,
            "align_items": null,
            "align_self": null,
            "border": null,
            "bottom": null,
            "display": null,
            "flex": null,
            "flex_flow": null,
            "grid_area": null,
            "grid_auto_columns": null,
            "grid_auto_flow": null,
            "grid_auto_rows": null,
            "grid_column": null,
            "grid_gap": null,
            "grid_row": null,
            "grid_template_areas": null,
            "grid_template_columns": null,
            "grid_template_rows": null,
            "height": null,
            "justify_content": null,
            "justify_items": null,
            "left": null,
            "margin": null,
            "max_height": null,
            "max_width": null,
            "min_height": null,
            "min_width": null,
            "object_fit": null,
            "object_position": null,
            "order": null,
            "overflow": null,
            "overflow_x": null,
            "overflow_y": null,
            "padding": null,
            "right": null,
            "top": null,
            "visibility": null,
            "width": null
          }
        },
        "acad8dea1bed4acea6cc2a5730303e3b": {
          "model_module": "@jupyter-widgets/controls",
          "model_name": "DescriptionStyleModel",
          "model_module_version": "1.5.0",
          "state": {
            "_model_module": "@jupyter-widgets/controls",
            "_model_module_version": "1.5.0",
            "_model_name": "DescriptionStyleModel",
            "_view_count": null,
            "_view_module": "@jupyter-widgets/base",
            "_view_module_version": "1.2.0",
            "_view_name": "StyleView",
            "description_width": ""
          }
        },
        "75765f62423147e9962daecbcfe1b966": {
          "model_module": "@jupyter-widgets/base",
          "model_name": "LayoutModel",
          "model_module_version": "1.2.0",
          "state": {
            "_model_module": "@jupyter-widgets/base",
            "_model_module_version": "1.2.0",
            "_model_name": "LayoutModel",
            "_view_count": null,
            "_view_module": "@jupyter-widgets/base",
            "_view_module_version": "1.2.0",
            "_view_name": "LayoutView",
            "align_content": null,
            "align_items": null,
            "align_self": null,
            "border": null,
            "bottom": null,
            "display": null,
            "flex": null,
            "flex_flow": null,
            "grid_area": null,
            "grid_auto_columns": null,
            "grid_auto_flow": null,
            "grid_auto_rows": null,
            "grid_column": null,
            "grid_gap": null,
            "grid_row": null,
            "grid_template_areas": null,
            "grid_template_columns": null,
            "grid_template_rows": null,
            "height": null,
            "justify_content": null,
            "justify_items": null,
            "left": null,
            "margin": null,
            "max_height": null,
            "max_width": null,
            "min_height": null,
            "min_width": null,
            "object_fit": null,
            "object_position": null,
            "order": null,
            "overflow": null,
            "overflow_x": null,
            "overflow_y": null,
            "padding": null,
            "right": null,
            "top": null,
            "visibility": null,
            "width": null
          }
        },
        "a6bad44ae92a46eab6df21ab52e13abb": {
          "model_module": "@jupyter-widgets/controls",
          "model_name": "ProgressStyleModel",
          "model_module_version": "1.5.0",
          "state": {
            "_model_module": "@jupyter-widgets/controls",
            "_model_module_version": "1.5.0",
            "_model_name": "ProgressStyleModel",
            "_view_count": null,
            "_view_module": "@jupyter-widgets/base",
            "_view_module_version": "1.2.0",
            "_view_name": "StyleView",
            "bar_color": null,
            "description_width": ""
          }
        },
        "85f0314ba1e64c17a699eb88143b43c4": {
          "model_module": "@jupyter-widgets/base",
          "model_name": "LayoutModel",
          "model_module_version": "1.2.0",
          "state": {
            "_model_module": "@jupyter-widgets/base",
            "_model_module_version": "1.2.0",
            "_model_name": "LayoutModel",
            "_view_count": null,
            "_view_module": "@jupyter-widgets/base",
            "_view_module_version": "1.2.0",
            "_view_name": "LayoutView",
            "align_content": null,
            "align_items": null,
            "align_self": null,
            "border": null,
            "bottom": null,
            "display": null,
            "flex": null,
            "flex_flow": null,
            "grid_area": null,
            "grid_auto_columns": null,
            "grid_auto_flow": null,
            "grid_auto_rows": null,
            "grid_column": null,
            "grid_gap": null,
            "grid_row": null,
            "grid_template_areas": null,
            "grid_template_columns": null,
            "grid_template_rows": null,
            "height": null,
            "justify_content": null,
            "justify_items": null,
            "left": null,
            "margin": null,
            "max_height": null,
            "max_width": null,
            "min_height": null,
            "min_width": null,
            "object_fit": null,
            "object_position": null,
            "order": null,
            "overflow": null,
            "overflow_x": null,
            "overflow_y": null,
            "padding": null,
            "right": null,
            "top": null,
            "visibility": null,
            "width": null
          }
        },
        "98a8416c14d24e0b8bc8f807caeb3fa9": {
          "model_module": "@jupyter-widgets/controls",
          "model_name": "DescriptionStyleModel",
          "model_module_version": "1.5.0",
          "state": {
            "_model_module": "@jupyter-widgets/controls",
            "_model_module_version": "1.5.0",
            "_model_name": "DescriptionStyleModel",
            "_view_count": null,
            "_view_module": "@jupyter-widgets/base",
            "_view_module_version": "1.2.0",
            "_view_name": "StyleView",
            "description_width": ""
          }
        },
        "e69cb762377f45aa84ae65c24fbb677a": {
          "model_module": "@jupyter-widgets/controls",
          "model_name": "HBoxModel",
          "model_module_version": "1.5.0",
          "state": {
            "_dom_classes": [],
            "_model_module": "@jupyter-widgets/controls",
            "_model_module_version": "1.5.0",
            "_model_name": "HBoxModel",
            "_view_count": null,
            "_view_module": "@jupyter-widgets/controls",
            "_view_module_version": "1.5.0",
            "_view_name": "HBoxView",
            "box_style": "",
            "children": [
              "IPY_MODEL_d04f7062d96145c5a36766ad7d272dfd",
              "IPY_MODEL_039634debb3a4dca878d86f6b4da3e2b",
              "IPY_MODEL_1e56eeec576d441392b3b5d7b6f03724"
            ],
            "layout": "IPY_MODEL_289f60425dc64c8a95500338d5d4106c"
          }
        },
        "d04f7062d96145c5a36766ad7d272dfd": {
          "model_module": "@jupyter-widgets/controls",
          "model_name": "HTMLModel",
          "model_module_version": "1.5.0",
          "state": {
            "_dom_classes": [],
            "_model_module": "@jupyter-widgets/controls",
            "_model_module_version": "1.5.0",
            "_model_name": "HTMLModel",
            "_view_count": null,
            "_view_module": "@jupyter-widgets/controls",
            "_view_module_version": "1.5.0",
            "_view_name": "HTMLView",
            "description": "",
            "description_tooltip": null,
            "layout": "IPY_MODEL_b4a8e370cfb44e3287351e56395b5869",
            "placeholder": "​",
            "style": "IPY_MODEL_fb48e88cb02d4360ab210f206e131fa3",
            "value": "100%"
          }
        },
        "039634debb3a4dca878d86f6b4da3e2b": {
          "model_module": "@jupyter-widgets/controls",
          "model_name": "FloatProgressModel",
          "model_module_version": "1.5.0",
          "state": {
            "_dom_classes": [],
            "_model_module": "@jupyter-widgets/controls",
            "_model_module_version": "1.5.0",
            "_model_name": "FloatProgressModel",
            "_view_count": null,
            "_view_module": "@jupyter-widgets/controls",
            "_view_module_version": "1.5.0",
            "_view_name": "ProgressView",
            "bar_style": "success",
            "description": "",
            "description_tooltip": null,
            "layout": "IPY_MODEL_9db3502f517f416a82dd73f652f6313f",
            "max": 18,
            "min": 0,
            "orientation": "horizontal",
            "style": "IPY_MODEL_180f9bc3c4e041ee8893e03f602e0d06",
            "value": 18
          }
        },
        "1e56eeec576d441392b3b5d7b6f03724": {
          "model_module": "@jupyter-widgets/controls",
          "model_name": "HTMLModel",
          "model_module_version": "1.5.0",
          "state": {
            "_dom_classes": [],
            "_model_module": "@jupyter-widgets/controls",
            "_model_module_version": "1.5.0",
            "_model_name": "HTMLModel",
            "_view_count": null,
            "_view_module": "@jupyter-widgets/controls",
            "_view_module_version": "1.5.0",
            "_view_name": "HTMLView",
            "description": "",
            "description_tooltip": null,
            "layout": "IPY_MODEL_2792253ea0a1439883a3fae19c91855e",
            "placeholder": "​",
            "style": "IPY_MODEL_521359dd753c4511a9776859832e32ea",
            "value": " 18/18 [00:01&lt;00:00, 19.17it/s]"
          }
        },
        "289f60425dc64c8a95500338d5d4106c": {
          "model_module": "@jupyter-widgets/base",
          "model_name": "LayoutModel",
          "model_module_version": "1.2.0",
          "state": {
            "_model_module": "@jupyter-widgets/base",
            "_model_module_version": "1.2.0",
            "_model_name": "LayoutModel",
            "_view_count": null,
            "_view_module": "@jupyter-widgets/base",
            "_view_module_version": "1.2.0",
            "_view_name": "LayoutView",
            "align_content": null,
            "align_items": null,
            "align_self": null,
            "border": null,
            "bottom": null,
            "display": null,
            "flex": null,
            "flex_flow": null,
            "grid_area": null,
            "grid_auto_columns": null,
            "grid_auto_flow": null,
            "grid_auto_rows": null,
            "grid_column": null,
            "grid_gap": null,
            "grid_row": null,
            "grid_template_areas": null,
            "grid_template_columns": null,
            "grid_template_rows": null,
            "height": null,
            "justify_content": null,
            "justify_items": null,
            "left": null,
            "margin": null,
            "max_height": null,
            "max_width": null,
            "min_height": null,
            "min_width": null,
            "object_fit": null,
            "object_position": null,
            "order": null,
            "overflow": null,
            "overflow_x": null,
            "overflow_y": null,
            "padding": null,
            "right": null,
            "top": null,
            "visibility": null,
            "width": null
          }
        },
        "b4a8e370cfb44e3287351e56395b5869": {
          "model_module": "@jupyter-widgets/base",
          "model_name": "LayoutModel",
          "model_module_version": "1.2.0",
          "state": {
            "_model_module": "@jupyter-widgets/base",
            "_model_module_version": "1.2.0",
            "_model_name": "LayoutModel",
            "_view_count": null,
            "_view_module": "@jupyter-widgets/base",
            "_view_module_version": "1.2.0",
            "_view_name": "LayoutView",
            "align_content": null,
            "align_items": null,
            "align_self": null,
            "border": null,
            "bottom": null,
            "display": null,
            "flex": null,
            "flex_flow": null,
            "grid_area": null,
            "grid_auto_columns": null,
            "grid_auto_flow": null,
            "grid_auto_rows": null,
            "grid_column": null,
            "grid_gap": null,
            "grid_row": null,
            "grid_template_areas": null,
            "grid_template_columns": null,
            "grid_template_rows": null,
            "height": null,
            "justify_content": null,
            "justify_items": null,
            "left": null,
            "margin": null,
            "max_height": null,
            "max_width": null,
            "min_height": null,
            "min_width": null,
            "object_fit": null,
            "object_position": null,
            "order": null,
            "overflow": null,
            "overflow_x": null,
            "overflow_y": null,
            "padding": null,
            "right": null,
            "top": null,
            "visibility": null,
            "width": null
          }
        },
        "fb48e88cb02d4360ab210f206e131fa3": {
          "model_module": "@jupyter-widgets/controls",
          "model_name": "DescriptionStyleModel",
          "model_module_version": "1.5.0",
          "state": {
            "_model_module": "@jupyter-widgets/controls",
            "_model_module_version": "1.5.0",
            "_model_name": "DescriptionStyleModel",
            "_view_count": null,
            "_view_module": "@jupyter-widgets/base",
            "_view_module_version": "1.2.0",
            "_view_name": "StyleView",
            "description_width": ""
          }
        },
        "9db3502f517f416a82dd73f652f6313f": {
          "model_module": "@jupyter-widgets/base",
          "model_name": "LayoutModel",
          "model_module_version": "1.2.0",
          "state": {
            "_model_module": "@jupyter-widgets/base",
            "_model_module_version": "1.2.0",
            "_model_name": "LayoutModel",
            "_view_count": null,
            "_view_module": "@jupyter-widgets/base",
            "_view_module_version": "1.2.0",
            "_view_name": "LayoutView",
            "align_content": null,
            "align_items": null,
            "align_self": null,
            "border": null,
            "bottom": null,
            "display": null,
            "flex": null,
            "flex_flow": null,
            "grid_area": null,
            "grid_auto_columns": null,
            "grid_auto_flow": null,
            "grid_auto_rows": null,
            "grid_column": null,
            "grid_gap": null,
            "grid_row": null,
            "grid_template_areas": null,
            "grid_template_columns": null,
            "grid_template_rows": null,
            "height": null,
            "justify_content": null,
            "justify_items": null,
            "left": null,
            "margin": null,
            "max_height": null,
            "max_width": null,
            "min_height": null,
            "min_width": null,
            "object_fit": null,
            "object_position": null,
            "order": null,
            "overflow": null,
            "overflow_x": null,
            "overflow_y": null,
            "padding": null,
            "right": null,
            "top": null,
            "visibility": null,
            "width": null
          }
        },
        "180f9bc3c4e041ee8893e03f602e0d06": {
          "model_module": "@jupyter-widgets/controls",
          "model_name": "ProgressStyleModel",
          "model_module_version": "1.5.0",
          "state": {
            "_model_module": "@jupyter-widgets/controls",
            "_model_module_version": "1.5.0",
            "_model_name": "ProgressStyleModel",
            "_view_count": null,
            "_view_module": "@jupyter-widgets/base",
            "_view_module_version": "1.2.0",
            "_view_name": "StyleView",
            "bar_color": null,
            "description_width": ""
          }
        },
        "2792253ea0a1439883a3fae19c91855e": {
          "model_module": "@jupyter-widgets/base",
          "model_name": "LayoutModel",
          "model_module_version": "1.2.0",
          "state": {
            "_model_module": "@jupyter-widgets/base",
            "_model_module_version": "1.2.0",
            "_model_name": "LayoutModel",
            "_view_count": null,
            "_view_module": "@jupyter-widgets/base",
            "_view_module_version": "1.2.0",
            "_view_name": "LayoutView",
            "align_content": null,
            "align_items": null,
            "align_self": null,
            "border": null,
            "bottom": null,
            "display": null,
            "flex": null,
            "flex_flow": null,
            "grid_area": null,
            "grid_auto_columns": null,
            "grid_auto_flow": null,
            "grid_auto_rows": null,
            "grid_column": null,
            "grid_gap": null,
            "grid_row": null,
            "grid_template_areas": null,
            "grid_template_columns": null,
            "grid_template_rows": null,
            "height": null,
            "justify_content": null,
            "justify_items": null,
            "left": null,
            "margin": null,
            "max_height": null,
            "max_width": null,
            "min_height": null,
            "min_width": null,
            "object_fit": null,
            "object_position": null,
            "order": null,
            "overflow": null,
            "overflow_x": null,
            "overflow_y": null,
            "padding": null,
            "right": null,
            "top": null,
            "visibility": null,
            "width": null
          }
        },
        "521359dd753c4511a9776859832e32ea": {
          "model_module": "@jupyter-widgets/controls",
          "model_name": "DescriptionStyleModel",
          "model_module_version": "1.5.0",
          "state": {
            "_model_module": "@jupyter-widgets/controls",
            "_model_module_version": "1.5.0",
            "_model_name": "DescriptionStyleModel",
            "_view_count": null,
            "_view_module": "@jupyter-widgets/base",
            "_view_module_version": "1.2.0",
            "_view_name": "StyleView",
            "description_width": ""
          }
        },
        "90b82e22231c43ef867dfb28e742da2b": {
          "model_module": "@jupyter-widgets/controls",
          "model_name": "HBoxModel",
          "model_module_version": "1.5.0",
          "state": {
            "_dom_classes": [],
            "_model_module": "@jupyter-widgets/controls",
            "_model_module_version": "1.5.0",
            "_model_name": "HBoxModel",
            "_view_count": null,
            "_view_module": "@jupyter-widgets/controls",
            "_view_module_version": "1.5.0",
            "_view_name": "HBoxView",
            "box_style": "",
            "children": [
              "IPY_MODEL_87b199dac9c647959437480053decd04",
              "IPY_MODEL_42fdce2df06f4d54894653b0f1604f98",
              "IPY_MODEL_49abfd4a20cf49f3a0a4bc13a8a7b91b"
            ],
            "layout": "IPY_MODEL_cf9c1cacf1c24285a6941e8be83873bc"
          }
        },
        "87b199dac9c647959437480053decd04": {
          "model_module": "@jupyter-widgets/controls",
          "model_name": "HTMLModel",
          "model_module_version": "1.5.0",
          "state": {
            "_dom_classes": [],
            "_model_module": "@jupyter-widgets/controls",
            "_model_module_version": "1.5.0",
            "_model_name": "HTMLModel",
            "_view_count": null,
            "_view_module": "@jupyter-widgets/controls",
            "_view_module_version": "1.5.0",
            "_view_name": "HTMLView",
            "description": "",
            "description_tooltip": null,
            "layout": "IPY_MODEL_f6a640748b1049e6b77f2f33dd4d54a1",
            "placeholder": "​",
            "style": "IPY_MODEL_9d523036aedf4ca7bff153cd1e3fcff4",
            "value": "100%"
          }
        },
        "42fdce2df06f4d54894653b0f1604f98": {
          "model_module": "@jupyter-widgets/controls",
          "model_name": "FloatProgressModel",
          "model_module_version": "1.5.0",
          "state": {
            "_dom_classes": [],
            "_model_module": "@jupyter-widgets/controls",
            "_model_module_version": "1.5.0",
            "_model_name": "FloatProgressModel",
            "_view_count": null,
            "_view_module": "@jupyter-widgets/controls",
            "_view_module_version": "1.5.0",
            "_view_name": "ProgressView",
            "bar_style": "success",
            "description": "",
            "description_tooltip": null,
            "layout": "IPY_MODEL_d86b3174a41246d29a9a6d860370c488",
            "max": 2,
            "min": 0,
            "orientation": "horizontal",
            "style": "IPY_MODEL_b6bb4dc8d7c848b080f210ee06b9b437",
            "value": 2
          }
        },
        "49abfd4a20cf49f3a0a4bc13a8a7b91b": {
          "model_module": "@jupyter-widgets/controls",
          "model_name": "HTMLModel",
          "model_module_version": "1.5.0",
          "state": {
            "_dom_classes": [],
            "_model_module": "@jupyter-widgets/controls",
            "_model_module_version": "1.5.0",
            "_model_name": "HTMLModel",
            "_view_count": null,
            "_view_module": "@jupyter-widgets/controls",
            "_view_module_version": "1.5.0",
            "_view_name": "HTMLView",
            "description": "",
            "description_tooltip": null,
            "layout": "IPY_MODEL_525bbc8bdace4d5c8b80be80dede3908",
            "placeholder": "​",
            "style": "IPY_MODEL_505bf30a9757481aa30df7318d429fe4",
            "value": " 2/2 [00:00&lt;00:00, 18.07it/s]"
          }
        },
        "cf9c1cacf1c24285a6941e8be83873bc": {
          "model_module": "@jupyter-widgets/base",
          "model_name": "LayoutModel",
          "model_module_version": "1.2.0",
          "state": {
            "_model_module": "@jupyter-widgets/base",
            "_model_module_version": "1.2.0",
            "_model_name": "LayoutModel",
            "_view_count": null,
            "_view_module": "@jupyter-widgets/base",
            "_view_module_version": "1.2.0",
            "_view_name": "LayoutView",
            "align_content": null,
            "align_items": null,
            "align_self": null,
            "border": null,
            "bottom": null,
            "display": null,
            "flex": null,
            "flex_flow": null,
            "grid_area": null,
            "grid_auto_columns": null,
            "grid_auto_flow": null,
            "grid_auto_rows": null,
            "grid_column": null,
            "grid_gap": null,
            "grid_row": null,
            "grid_template_areas": null,
            "grid_template_columns": null,
            "grid_template_rows": null,
            "height": null,
            "justify_content": null,
            "justify_items": null,
            "left": null,
            "margin": null,
            "max_height": null,
            "max_width": null,
            "min_height": null,
            "min_width": null,
            "object_fit": null,
            "object_position": null,
            "order": null,
            "overflow": null,
            "overflow_x": null,
            "overflow_y": null,
            "padding": null,
            "right": null,
            "top": null,
            "visibility": null,
            "width": null
          }
        },
        "f6a640748b1049e6b77f2f33dd4d54a1": {
          "model_module": "@jupyter-widgets/base",
          "model_name": "LayoutModel",
          "model_module_version": "1.2.0",
          "state": {
            "_model_module": "@jupyter-widgets/base",
            "_model_module_version": "1.2.0",
            "_model_name": "LayoutModel",
            "_view_count": null,
            "_view_module": "@jupyter-widgets/base",
            "_view_module_version": "1.2.0",
            "_view_name": "LayoutView",
            "align_content": null,
            "align_items": null,
            "align_self": null,
            "border": null,
            "bottom": null,
            "display": null,
            "flex": null,
            "flex_flow": null,
            "grid_area": null,
            "grid_auto_columns": null,
            "grid_auto_flow": null,
            "grid_auto_rows": null,
            "grid_column": null,
            "grid_gap": null,
            "grid_row": null,
            "grid_template_areas": null,
            "grid_template_columns": null,
            "grid_template_rows": null,
            "height": null,
            "justify_content": null,
            "justify_items": null,
            "left": null,
            "margin": null,
            "max_height": null,
            "max_width": null,
            "min_height": null,
            "min_width": null,
            "object_fit": null,
            "object_position": null,
            "order": null,
            "overflow": null,
            "overflow_x": null,
            "overflow_y": null,
            "padding": null,
            "right": null,
            "top": null,
            "visibility": null,
            "width": null
          }
        },
        "9d523036aedf4ca7bff153cd1e3fcff4": {
          "model_module": "@jupyter-widgets/controls",
          "model_name": "DescriptionStyleModel",
          "model_module_version": "1.5.0",
          "state": {
            "_model_module": "@jupyter-widgets/controls",
            "_model_module_version": "1.5.0",
            "_model_name": "DescriptionStyleModel",
            "_view_count": null,
            "_view_module": "@jupyter-widgets/base",
            "_view_module_version": "1.2.0",
            "_view_name": "StyleView",
            "description_width": ""
          }
        },
        "d86b3174a41246d29a9a6d860370c488": {
          "model_module": "@jupyter-widgets/base",
          "model_name": "LayoutModel",
          "model_module_version": "1.2.0",
          "state": {
            "_model_module": "@jupyter-widgets/base",
            "_model_module_version": "1.2.0",
            "_model_name": "LayoutModel",
            "_view_count": null,
            "_view_module": "@jupyter-widgets/base",
            "_view_module_version": "1.2.0",
            "_view_name": "LayoutView",
            "align_content": null,
            "align_items": null,
            "align_self": null,
            "border": null,
            "bottom": null,
            "display": null,
            "flex": null,
            "flex_flow": null,
            "grid_area": null,
            "grid_auto_columns": null,
            "grid_auto_flow": null,
            "grid_auto_rows": null,
            "grid_column": null,
            "grid_gap": null,
            "grid_row": null,
            "grid_template_areas": null,
            "grid_template_columns": null,
            "grid_template_rows": null,
            "height": null,
            "justify_content": null,
            "justify_items": null,
            "left": null,
            "margin": null,
            "max_height": null,
            "max_width": null,
            "min_height": null,
            "min_width": null,
            "object_fit": null,
            "object_position": null,
            "order": null,
            "overflow": null,
            "overflow_x": null,
            "overflow_y": null,
            "padding": null,
            "right": null,
            "top": null,
            "visibility": null,
            "width": null
          }
        },
        "b6bb4dc8d7c848b080f210ee06b9b437": {
          "model_module": "@jupyter-widgets/controls",
          "model_name": "ProgressStyleModel",
          "model_module_version": "1.5.0",
          "state": {
            "_model_module": "@jupyter-widgets/controls",
            "_model_module_version": "1.5.0",
            "_model_name": "ProgressStyleModel",
            "_view_count": null,
            "_view_module": "@jupyter-widgets/base",
            "_view_module_version": "1.2.0",
            "_view_name": "StyleView",
            "bar_color": null,
            "description_width": ""
          }
        },
        "525bbc8bdace4d5c8b80be80dede3908": {
          "model_module": "@jupyter-widgets/base",
          "model_name": "LayoutModel",
          "model_module_version": "1.2.0",
          "state": {
            "_model_module": "@jupyter-widgets/base",
            "_model_module_version": "1.2.0",
            "_model_name": "LayoutModel",
            "_view_count": null,
            "_view_module": "@jupyter-widgets/base",
            "_view_module_version": "1.2.0",
            "_view_name": "LayoutView",
            "align_content": null,
            "align_items": null,
            "align_self": null,
            "border": null,
            "bottom": null,
            "display": null,
            "flex": null,
            "flex_flow": null,
            "grid_area": null,
            "grid_auto_columns": null,
            "grid_auto_flow": null,
            "grid_auto_rows": null,
            "grid_column": null,
            "grid_gap": null,
            "grid_row": null,
            "grid_template_areas": null,
            "grid_template_columns": null,
            "grid_template_rows": null,
            "height": null,
            "justify_content": null,
            "justify_items": null,
            "left": null,
            "margin": null,
            "max_height": null,
            "max_width": null,
            "min_height": null,
            "min_width": null,
            "object_fit": null,
            "object_position": null,
            "order": null,
            "overflow": null,
            "overflow_x": null,
            "overflow_y": null,
            "padding": null,
            "right": null,
            "top": null,
            "visibility": null,
            "width": null
          }
        },
        "505bf30a9757481aa30df7318d429fe4": {
          "model_module": "@jupyter-widgets/controls",
          "model_name": "DescriptionStyleModel",
          "model_module_version": "1.5.0",
          "state": {
            "_model_module": "@jupyter-widgets/controls",
            "_model_module_version": "1.5.0",
            "_model_name": "DescriptionStyleModel",
            "_view_count": null,
            "_view_module": "@jupyter-widgets/base",
            "_view_module_version": "1.2.0",
            "_view_name": "StyleView",
            "description_width": ""
          }
        }
      }
    }
  },
  "nbformat": 4,
  "nbformat_minor": 0
}