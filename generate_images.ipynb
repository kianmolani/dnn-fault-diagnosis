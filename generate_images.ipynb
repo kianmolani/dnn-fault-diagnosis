{
 "cells": [
  {
   "attachments": {},
   "cell_type": "markdown",
   "metadata": {},
   "source": [
    "# (1) Import and filter data files"
   ]
  },
  {
   "cell_type": "code",
   "execution_count": 1,
   "metadata": {},
   "outputs": [],
   "source": [
    "import os\n",
    "import scipy\n",
    "import matplotlib.pyplot as plt\n",
    "import numpy as np\n",
    "\n",
    "# set bearing fault parameters\n",
    "\n",
    "sampling_frequency = 12000\n",
    "fault_size = \"0007in\"\n",
    "RPM = \"1750RPM\"\n",
    "sensor = \"DE\"\n",
    "\n",
    "# retrieve data files\n",
    "\n",
    "if sampling_frequency == 12000:\n",
    "    path = os.getcwd() + \"/data/CWRU/DE12k/raw\"\n",
    "else:\n",
    "    path = os.getcwd() + \"/data/CWRU/DE48k/raw\"\n",
    "\n",
    "files = os.listdir(path)\n",
    "\n",
    "# filter data files by fault parameters\n",
    "\n",
    "files.remove('.DS_Store')\n",
    "files_healthy = [file for file in files if file.split(\"-\")[2].split('.')[0] == RPM]\n",
    "files_faulty = [file for file in files if file.split(\"-\")[1] == fault_size and file.split(\"-\")[3].split('.')[0] == RPM]\n",
    "files = files_healthy + files_faulty"
   ]
  },
  {
   "attachments": {},
   "cell_type": "markdown",
   "metadata": {},
   "source": [
    "# (2) Set MTF parameters and perform sanity checking"
   ]
  },
  {
   "cell_type": "code",
   "execution_count": null,
   "metadata": {},
   "outputs": [],
   "source": [
    "from generate_images import MTF_Generator\n",
    "\n",
    "# set MTF parameters\n",
    "\n",
    "n_bins = 11\n",
    "\n",
    "# set image processing parameters\n",
    "\n",
    "n_data_pts = 500\n",
    "\n",
    "# print number of data points for each file for sanity\n",
    "\n",
    "print(\"Number of data points per sample: \" + str(n_data_pts))\n",
    "\n",
    "for file in files:\n",
    "\n",
    "    data = scipy.io.loadmat(path + \"/\" + file)\n",
    "    vars = scipy.io.whosmat(path + \"/\" + file)\n",
    "    \n",
    "    for i in range(len(vars)):\n",
    "        if sensor in vars[i][0]:\n",
    "            idx = i\n",
    "            break\n",
    "\n",
    "    print(\"File '\" + str(file) + \"' with sensor '\" + str(vars[idx][0]) + \"' has \" \n",
    "          + str(data[vars[idx][0]].shape[0]) + \" data points => \" \n",
    "          + str(int(data[vars[idx][0]].shape[0] / n_data_pts)) + \" images\")\n",
    "\n",
    "# visualize a single MTF image for sanity\n",
    "     \n",
    "file_name = \"healthy-0HP-1750RPM.mat\"\n",
    "img_no = 0\n",
    "\n",
    "for i in range(len(files)):\n",
    "    if file_name in files[i]:\n",
    "        idx = i\n",
    "        break\n",
    "\n",
    "print(files[idx])\n",
    "\n",
    "data = scipy.io.loadmat(path + \"/\" + files[idx])\n",
    "vars = scipy.io.whosmat(path + \"/\" + files[idx])\n",
    "\n",
    "for i in range(len(vars)):\n",
    "    if sensor in vars[i][0]:\n",
    "        idx = i\n",
    "        break\n",
    "\n",
    "print(vars[idx][0])\n",
    "\n",
    "mtf_rgb = MTF_Generator(n_bins, n_data_pts, data[vars[idx][0]]).generate_mtf()\n",
    "mtf_rgb = (255 * mtf_rgb[img_no]).astype(np.uint8)\n",
    "\n",
    "plt.imshow(mtf_rgb)\n",
    "plt.show()"
   ]
  },
  {
   "attachments": {},
   "cell_type": "markdown",
   "metadata": {},
   "source": [
    "# (3) Produce all MTF images"
   ]
  },
  {
   "cell_type": "code",
   "execution_count": null,
   "metadata": {},
   "outputs": [],
   "source": [
    "# reset MTF parameters if required\n",
    "\n",
    "n_bins = 11\n",
    "\n",
    "# reset image processing parameters if required\n",
    "\n",
    "n_data_pts = 500\n",
    "\n",
    "# export MTF images as PNG \n",
    "\n",
    "img_idx_healthy = 0\n",
    "img_idx_faulty = 0\n",
    "\n",
    "for file in files:\n",
    "\n",
    "    data = scipy.io.loadmat(path + \"/\" + file)\n",
    "    vars = scipy.io.whosmat(path + \"/\" + file)\n",
    "\n",
    "    for i in range(len(vars)):\n",
    "        if sensor in vars[i][0]:\n",
    "            idx = i\n",
    "            break\n",
    "\n",
    "    mtf_rgb = MTF_Generator(n_bins, n_data_pts, data[vars[idx][0]]).generate_mtf()\n",
    "\n",
    "    for j in range(mtf_rgb.shape[0]):\n",
    "\n",
    "        im = Image.fromarray((255 * mtf_rgb[j]).astype(np.uint8), \"RGB\")\n",
    "        \n",
    "        if file.split(\"-\")[0] == \"healthy\":\n",
    "            im.save(os.getcwd() + \"/data/CWRU/DE12k/processed/mtf/training/healthy/\" + str(img_idx_healthy) + \".png\")\n",
    "            img_idx_healthy += 1\n",
    "        else:\n",
    "            im.save(os.getcwd() + \"/data/CWRU/DE12k/processed/mtf/training/faulty/\" + str(img_idx_faulty) + \".png\")\n",
    "            img_idx_faulty += 1\n"
   ]
  },
  {
   "attachments": {},
   "cell_type": "markdown",
   "metadata": {},
   "source": [
    "# (4) Set spectrogram parameters and perform sanity checking"
   ]
  },
  {
   "cell_type": "code",
   "execution_count": 2,
   "metadata": {},
   "outputs": [
    {
     "name": "stdout",
     "output_type": "stream",
     "text": [
      "healthy-0HP-1750RPM.mat\n",
      "X098_DE_time\n"
     ]
    },
    {
     "ename": "ValueError",
     "evalue": "could not broadcast input array from shape (100,100) into shape (100,100,3)",
     "output_type": "error",
     "traceback": [
      "\u001b[0;31m---------------------------------------------------------------------------\u001b[0m",
      "\u001b[0;31mValueError\u001b[0m                                Traceback (most recent call last)",
      "Cell \u001b[0;32mIn[2], line 29\u001b[0m\n\u001b[1;32m     25\u001b[0m         \u001b[39mbreak\u001b[39;00m\n\u001b[1;32m     27\u001b[0m \u001b[39mprint\u001b[39m(\u001b[39mvars\u001b[39m[idx][\u001b[39m0\u001b[39m])\n\u001b[0;32m---> 29\u001b[0m spec_rgb \u001b[39m=\u001b[39m Spec_Generator(sampling_frequency, n_data_pts, data[\u001b[39mvars\u001b[39;49m[idx][\u001b[39m0\u001b[39;49m]])\u001b[39m.\u001b[39;49mgenerate_spec()\n\u001b[1;32m     30\u001b[0m spec_rgb \u001b[39m=\u001b[39m (\u001b[39m255\u001b[39m \u001b[39m*\u001b[39m spec_rgb[img_no])\u001b[39m.\u001b[39mastype(np\u001b[39m.\u001b[39muint8)\n",
      "File \u001b[0;32m~/Documents/Project Files/Codebases/Predictive_Health_Monitoring_Using-Transfer_Learning/generate_images.py:72\u001b[0m, in \u001b[0;36mgenerate_spec\u001b[0;34m(self)\u001b[0m\n\u001b[1;32m     70\u001b[0m for i in range(n_samples):\n\u001b[1;32m     71\u001b[0m   f, t, Sxx = signal.spectrogram(samples[i], fs = self._params[\"sampling_frequency\"])\n\u001b[0;32m---> 72\u001b[0m   spectrogram[i] = resize(Sxx, (100, 100))\n\u001b[1;32m     73\u001b[0m   im = plt.pcolormesh(t, f, Sxx, shading='gouraud')\n\u001b[1;32m     74\u001b[0m \n",
      "\u001b[0;31mValueError\u001b[0m: could not broadcast input array from shape (100,100) into shape (100,100,3)"
     ]
    }
   ],
   "source": [
    "from generate_images import Spec_Generator\n",
    "\n",
    "# set image processing parameters\n",
    "\n",
    "n_data_pts = 500\n",
    "\n",
    "# visualize a single spectrogram for sanity\n",
    "     \n",
    "file_name = \"healthy-0HP-1750RPM.mat\"\n",
    "img_no = 0\n",
    "\n",
    "for i in range(len(files)):\n",
    "    if file_name in files[i]:\n",
    "        idx = i\n",
    "        break\n",
    "\n",
    "print(files[idx])\n",
    "\n",
    "data = scipy.io.loadmat(path + \"/\" + files[idx])\n",
    "vars = scipy.io.whosmat(path + \"/\" + files[idx])\n",
    "\n",
    "for i in range(len(vars)):\n",
    "    if sensor in vars[i][0]:\n",
    "        idx = i\n",
    "        break\n",
    "\n",
    "print(vars[idx][0])\n",
    "\n",
    "spec_rgb = Spec_Generator(sampling_frequency, n_data_pts, data[vars[idx][0]]).generate_spec()\n",
    "spec_rgb = (255 * spec_rgb[img_no]).astype(np.uint8)\n"
   ]
  }
 ],
 "metadata": {
  "kernelspec": {
   "display_name": "Python 3",
   "language": "python",
   "name": "python3"
  },
  "language_info": {
   "codemirror_mode": {
    "name": "ipython",
    "version": 3
   },
   "file_extension": ".py",
   "mimetype": "text/x-python",
   "name": "python",
   "nbconvert_exporter": "python",
   "pygments_lexer": "ipython3",
   "version": "3.10.10"
  },
  "orig_nbformat": 4
 },
 "nbformat": 4,
 "nbformat_minor": 2
}
